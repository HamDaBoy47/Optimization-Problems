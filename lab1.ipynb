{
 "cells": [
  {
   "cell_type": "code",
   "execution_count": 477,
   "id": "12653563",
   "metadata": {
    "deletable": false,
    "editable": false,
    "nbgrader": {
     "cell_type": "code",
     "checksum": "8cba74fb8b75e274f4f416b0cac8b082",
     "grade": false,
     "grade_id": "cell-cd482a4d95a37255",
     "locked": true,
     "schema_version": 3,
     "solution": false,
     "task": false
    }
   },
   "outputs": [],
   "source": [
    "# Initialisation Cell\n",
    "from matplotlib import pyplot as plt\n",
    "from IPython.display import display, HTML, Javascript\n",
    "from math import *\n",
    "import pandas as pd\n",
    "import numpy as np\n",
    "import numpy.testing as nt"
   ]
  },
  {
   "cell_type": "markdown",
   "id": "23a95d8e",
   "metadata": {
    "deletable": false,
    "editable": false,
    "nbgrader": {
     "cell_type": "markdown",
     "checksum": "4e050989ddf219ca0392335527feedee",
     "grade": false,
     "grade_id": "cell-251d2ec01e6f16cd",
     "locked": true,
     "schema_version": 3,
     "solution": false,
     "task": false
    }
   },
   "source": [
    "# Optimisation II - Lab 1\n",
    "\n",
    "\n",
    "## Instructions\n",
    "\n",
    "* Carefully read all the instructions.\n",
    "* Do **NOT** change the file name/format upon submission. Please do not add or remove cells from the notebook. \n",
    "\n",
    "\n",
    "* **Numpy** has a help file for every function if you get stuck. See: https://docs.scipy.org/doc/numpy-1.14.5/reference/\n",
    "* See these useful links:\n",
    "    * https://docs.scipy.org/doc/numpy/user/numpy-for-matlab-users.html\n",
    "    * https://docs.scipy.org/doc/numpy/user/quickstart.html\n",
    "* **Numpy** is not always required.\n",
    "* There are also numerous sources available on the internet, Google is your friend!\n",
    "\n",
    "\n",
    "----\n",
    "This lab material has been created by Dr Matthew Woolway and has been edited by Krupa Prag. "
   ]
  },
  {
   "cell_type": "markdown",
   "id": "45e79b27",
   "metadata": {
    "deletable": false,
    "editable": false,
    "nbgrader": {
     "cell_type": "markdown",
     "checksum": "f61499cd33e63185f5a2661c98b000f1",
     "grade": false,
     "grade_id": "cell-a92d30dc79d8a07a",
     "locked": true,
     "schema_version": 3,
     "solution": false,
     "task": false
    }
   },
   "source": [
    "## Section I: Warm-up Exercises\n",
    "\n",
    "Complete the following warm-up tasks. "
   ]
  },
  {
   "cell_type": "markdown",
   "id": "307bd330",
   "metadata": {
    "deletable": false,
    "editable": false,
    "nbgrader": {
     "cell_type": "markdown",
     "checksum": "41f63f53016b5842d81d1b852095ccda",
     "grade": false,
     "grade_id": "cell-e401f06f099bff2b",
     "locked": true,
     "schema_version": 3,
     "solution": false,
     "task": false
    }
   },
   "source": [
    "### Question 1 [1 Mark]\n",
    "\n",
    "Write a function that will convert a decimal number to a binary number. The function must be able to handle a decimal of any length. Do NOT use any built-in functions to complete this task. "
   ]
  },
  {
   "cell_type": "code",
   "execution_count": 478,
   "id": "ae9cf684",
   "metadata": {
    "deletable": false,
    "nbgrader": {
     "cell_type": "code",
     "checksum": "00c687e86de94884c0dc8f2a42902b57",
     "grade": false,
     "grade_id": "cell-9df3f56b7fca0a7a",
     "locked": false,
     "schema_version": 3,
     "solution": true,
     "task": false
    }
   },
   "outputs": [],
   "source": [
    "def dec_to_bin(n):\n",
    "    \"\"\"\n",
    "    Inputs\n",
    "        n: a scalar real value\n",
    "    \n",
    "    Output\n",
    "        s: a binary string equal to n\n",
    "    \"\"\"\n",
    "    # YOUR CODE HERE\n",
    "    # binary_num = []\n",
    "    \n",
    "    # while n > 0:\n",
    "    #     rem = n % 2\n",
    "    #     binary_num.append(rem)\n",
    "    #     n = n // 2\n",
    "    # binary_num.reverse()\n",
    "    # output = \"\".join([str(i) for i in binary_num])\n",
    "    \n",
    "    list = []\n",
    "    while (n > 0):\n",
    "        list.append(n%2)\n",
    "        n = n//2\n",
    "    list.reverse()\n",
    "    listToStr = ''.join([str(elem) for elem in list])\n",
    "    return(listToStr)\n",
    "    \n",
    "    # return output\n",
    "        \n",
    "    raise NotImplementedError()"
   ]
  },
  {
   "cell_type": "code",
   "execution_count": 479,
   "id": "3b71f075",
   "metadata": {
    "deletable": false,
    "editable": false,
    "nbgrader": {
     "cell_type": "code",
     "checksum": "8abe95ce289c9d4b09b818e957778b2e",
     "grade": true,
     "grade_id": "cell-41f040e25a803077",
     "locked": true,
     "points": 1,
     "schema_version": 3,
     "solution": false,
     "task": false
    }
   },
   "outputs": [
    {
     "name": "stdout",
     "output_type": "stream",
     "text": [
      "All Tests Passed!!!\n"
     ]
    }
   ],
   "source": [
    "# Run this test cell to check your code\n",
    "# Do not delete this cell\n",
    "nt.assert_string_equal('1101', dec_to_bin(13))\n",
    "print('All Tests Passed!!!')"
   ]
  },
  {
   "cell_type": "markdown",
   "id": "855b4cb6",
   "metadata": {
    "deletable": false,
    "editable": false,
    "nbgrader": {
     "cell_type": "markdown",
     "checksum": "e2351c920999454f2c794b6dae5da22a",
     "grade": false,
     "grade_id": "cell-6e28e6e347a297aa",
     "locked": true,
     "schema_version": 3,
     "solution": false,
     "task": false
    }
   },
   "source": [
    "### Question 2 [1 Mark]\n",
    "\n",
    "A string is simply an ordered collection of symbols selected from some alphabet and formed into a word; the length of a string is the number of symbols that it contains. An example of a length 21 DNA string (whose alphabet contains the symbols 'A', 'C', 'G', and 'T') is \"ATGCTTCAGAAAGGTCTTACG.\" Write a function that takes as input, a vector  $s$  and returns a vector of four integers counting the respective number of times that the symbols 'A', 'C', 'G', and 'T' occur in  $s$."
   ]
  },
  {
   "cell_type": "code",
   "execution_count": 480,
   "id": "ee7c4045",
   "metadata": {
    "deletable": false,
    "nbgrader": {
     "cell_type": "code",
     "checksum": "0001a030e23cf127d8c10370cbba1abf",
     "grade": false,
     "grade_id": "cell-6a521f3c5be8821b",
     "locked": false,
     "schema_version": 3,
     "solution": true,
     "task": false
    }
   },
   "outputs": [],
   "source": [
    "def dna(s):\n",
    "    \"\"\"\n",
    "    Inputs\n",
    "    s: a string of DNA sequence\n",
    "    \n",
    "    Outputs\n",
    "    occ_seq: a list of the number of times A, C, G and T occur (in this order)\n",
    "    \"\"\"\n",
    "    # YOUR CODE HERE\n",
    "    counts = [0,0,0,0]\n",
    "    \n",
    "    for i in range(len(s)):\n",
    "        if s[i] == 'A':\n",
    "            counts[0] += 1\n",
    "        if s[i] == 'C':\n",
    "            counts[1] += 1\n",
    "        if s[i] == 'G':\n",
    "            counts[2] += 1\n",
    "        if s[i] == 'T':\n",
    "            counts[3] += 1     \n",
    "    \n",
    "    return counts\n",
    "    \n",
    "    raise NotImplementedError()"
   ]
  },
  {
   "cell_type": "code",
   "execution_count": 481,
   "id": "93344b26",
   "metadata": {
    "deletable": false,
    "editable": false,
    "nbgrader": {
     "cell_type": "code",
     "checksum": "77c8867599d64676e3f5194009e40919",
     "grade": true,
     "grade_id": "cell-acd8c87c71d13c6f",
     "locked": true,
     "points": 1,
     "schema_version": 3,
     "solution": false,
     "task": false
    }
   },
   "outputs": [
    {
     "name": "stdout",
     "output_type": "stream",
     "text": [
      "All Tests Passed!!!\n"
     ]
    }
   ],
   "source": [
    "# Run this test cell to check your code\n",
    "# Do not delete this cell\n",
    "s = 'ATGCTTCAGAAAGGTCTTACG'\n",
    "nt.assert_array_equal([6, 4, 5, 6], dna(s), err_msg='incorrect function')\n",
    "print('All Tests Passed!!!')"
   ]
  },
  {
   "cell_type": "markdown",
   "id": "d4ede811",
   "metadata": {
    "deletable": false,
    "editable": false,
    "nbgrader": {
     "cell_type": "markdown",
     "checksum": "95ef37c6c98d28bb0d67e5a405ef3be8",
     "grade": false,
     "grade_id": "cell-bb176c160a575056",
     "locked": true,
     "schema_version": 3,
     "solution": false,
     "task": false
    }
   },
   "source": [
    "### Question 3 [1 Mark]\n",
    "\n",
    "Write a function that takes a matrix  $M$  as input and returns a matrix that contains only those elements of  $M$  that are in odd rows and columns."
   ]
  },
  {
   "cell_type": "code",
   "execution_count": 482,
   "id": "093bdf4d",
   "metadata": {
    "deletable": false,
    "nbgrader": {
     "cell_type": "code",
     "checksum": "abfd215b74c15cb8e861336c4d6a4f48",
     "grade": false,
     "grade_id": "cell-9ede6d2acfe528d8",
     "locked": false,
     "schema_version": 3,
     "solution": true,
     "task": false
    }
   },
   "outputs": [],
   "source": [
    "def matrix_extraction(M):\n",
    "    \"\"\"\n",
    "    Inputs:\n",
    "        M: a random numpy matrix\n",
    "    \n",
    "    Outputs:\n",
    "        N: a matrix with the odd rows and columns of M only\n",
    "    \"\"\"\n",
    "    # YOUR CODE HERE\n",
    "    cols = M.shape[1]\n",
    "    rows = M.shape[0]\n",
    "    \n",
    "    c = []\n",
    "    r = []\n",
    "    \n",
    "    for i in range(rows):\n",
    "        if i % 2 != 0:\n",
    "            r.append(i)\n",
    "    \n",
    "    for i in range(cols):\n",
    "        if i % 2 != 0:\n",
    "            c.append(i)\n",
    "    \n",
    "    M = np.delete(M,r,0)\n",
    "    M = np.delete(M,c,1)\n",
    "        \n",
    "    return M\n",
    "    raise NotImplementedError()"
   ]
  },
  {
   "cell_type": "code",
   "execution_count": 483,
   "id": "f0160966",
   "metadata": {
    "deletable": false,
    "editable": false,
    "nbgrader": {
     "cell_type": "code",
     "checksum": "8c313af384b1dee930eb2e9f60cd0bf8",
     "grade": true,
     "grade_id": "cell-058e4cee17fd3825",
     "locked": true,
     "points": 1,
     "schema_version": 3,
     "solution": false,
     "task": false
    }
   },
   "outputs": [
    {
     "name": "stdout",
     "output_type": "stream",
     "text": [
      "All Tests Passed!!!\n"
     ]
    }
   ],
   "source": [
    "# Run this test cell to check your code\n",
    "# Do not delete this cell\n",
    "M = np.array([[0.29977941, 0.05186872, 0.57587171, 0.56806655, 0.38424249],\n",
    "             [0.25568574, 0.53849314, 0.76387274, 0.29669909, 0.68029403],\n",
    "             [0.9338883,  0.44839289, 0.48052527, 0.60921226, 0.89123473],\n",
    "             [0.76114271, 0.61475746, 0.04465618, 0.85599524, 0.29450567],\n",
    "             [0.43419249, 0.04936524, 0.14366823, 0.30798834, 0.91016638]])\n",
    "N = np.array([[0.29977941, 0.57587171, 0.38424249],\n",
    "             [0.9338883,  0.48052527, 0.89123473],\n",
    "             [0.43419249, 0.14366823, 0.91016638]])\n",
    "nt.assert_array_almost_equal(N, matrix_extraction(M), err_msg='incorrect function')\n",
    "print('All Tests Passed!!!')"
   ]
  },
  {
   "cell_type": "markdown",
   "id": "1c17f8c2",
   "metadata": {
    "deletable": false,
    "editable": false,
    "nbgrader": {
     "cell_type": "markdown",
     "checksum": "28ee72bab2ceca230ae514011486cb1c",
     "grade": false,
     "grade_id": "cell-1add2e378e83e1aa",
     "locked": true,
     "schema_version": 3,
     "solution": false,
     "task": false
    }
   },
   "source": [
    "### Question 4 [1 Mark]\n",
    "\n",
    "Write a function that computes how much money we have. It takes a single input argument, a vector  $c$, whose elements specify the number of five cent, 10 cent, 20 cent and 50 cent coins we have (in the order listed here). The output should be a scalar value of the total in Rands - not cents."
   ]
  },
  {
   "cell_type": "code",
   "execution_count": 484,
   "id": "81977051",
   "metadata": {
    "deletable": false,
    "nbgrader": {
     "cell_type": "code",
     "checksum": "9ff327d0eba28ac0706f1b704b84d471",
     "grade": false,
     "grade_id": "cell-51e6c91fccb0f4f2",
     "locked": false,
     "schema_version": 3,
     "solution": true,
     "task": false
    }
   },
   "outputs": [],
   "source": [
    "def rand_compute(c):\n",
    "    \"\"\"\n",
    "    Inputs\n",
    "        c: a list of the number of 5, 10, 20 and 50 cent coins\n",
    "        \n",
    "    Outputs\n",
    "        total: the scalar Rand value of all the coins in the list\n",
    "    \"\"\"\n",
    "    # YOUR CODE HERE\n",
    "    five = 1/20\n",
    "    ten = 1/10\n",
    "    twenty = 1/5\n",
    "    fifty = 1/2\n",
    "    r = (c[0]*five) + (c[1]*ten) + (c[2]*twenty) + (c[3]*fifty)\n",
    "    \n",
    "    return r\n",
    "    raise NotImplementedError()"
   ]
  },
  {
   "cell_type": "code",
   "execution_count": 485,
   "id": "7bba773f",
   "metadata": {
    "deletable": false,
    "editable": false,
    "nbgrader": {
     "cell_type": "code",
     "checksum": "f0658945fbe8c340682af2c855aef4e3",
     "grade": true,
     "grade_id": "cell-94cb627b5e119e90",
     "locked": true,
     "points": 1,
     "schema_version": 3,
     "solution": false,
     "task": false
    }
   },
   "outputs": [
    {
     "name": "stdout",
     "output_type": "stream",
     "text": [
      "All Tests Passed!!!\n"
     ]
    }
   ],
   "source": [
    "# Run this test cell to check your code\n",
    "# Do not delete this cell\n",
    "c = [0,1,0,2]\n",
    "nt.assert_equal(1.1, rand_compute(c), err_msg= 'incorrect function')\n",
    "print('All Tests Passed!!!')"
   ]
  },
  {
   "cell_type": "markdown",
   "id": "873aef0a",
   "metadata": {
    "deletable": false,
    "editable": false,
    "nbgrader": {
     "cell_type": "markdown",
     "checksum": "2bf16add485b2369e7a5e6c0b9594fe0",
     "grade": false,
     "grade_id": "cell-4ed4f366f666e75a",
     "locked": true,
     "schema_version": 3,
     "solution": false,
     "task": false
    }
   },
   "source": [
    "### Question 5 [1 Mark]\n",
    "\n",
    "Write a function that that takes in two vectors of items and returns a vector with the symmetric difference of the two vectors of items. For example if lists $A = [1,8,9,7,14]$ and $B = [5,9,6,14,1]$ are the inputs, then return the symmetric difference of these lists which is $S=[8,7,5,6]$. "
   ]
  },
  {
   "cell_type": "code",
   "execution_count": 486,
   "id": "b574a7e4",
   "metadata": {
    "deletable": false,
    "nbgrader": {
     "cell_type": "code",
     "checksum": "eb6733bf0f2b4fc16047fff095ac7d47",
     "grade": false,
     "grade_id": "cell-23227cecdd1a04d0",
     "locked": false,
     "schema_version": 3,
     "solution": true,
     "task": false
    }
   },
   "outputs": [],
   "source": [
    "def set_union(A, B):\n",
    "    \"\"\"\n",
    "    Inputs\n",
    "        A: a list of items\n",
    "        B: a list of items\n",
    "\n",
    "        \n",
    "    Outputs\n",
    "        S: the symmetric difference of the lists A and B\n",
    "    \"\"\"\n",
    "    # YOUR CODE HERE\n",
    "    A = set(A)\n",
    "    B = set(B)\n",
    "    \n",
    "    A_B = set(A.difference(B))\n",
    "    B_A = set(B.difference(A))\n",
    "    \n",
    "    sym_diff = A_B.union(B_A)\n",
    "    \n",
    "    # difference = list(set(A).symmetric_difference(set(B)))\n",
    "    \n",
    "    return sym_diff\n",
    "    raise NotImplementedError()"
   ]
  },
  {
   "cell_type": "code",
   "execution_count": 487,
   "id": "4a579be3",
   "metadata": {
    "deletable": false,
    "editable": false,
    "nbgrader": {
     "cell_type": "code",
     "checksum": "a29c1c4bfe74801b02792f4884071307",
     "grade": true,
     "grade_id": "cell-c093ced4acb9eb4c",
     "locked": true,
     "points": 1,
     "schema_version": 3,
     "solution": false,
     "task": false
    }
   },
   "outputs": [
    {
     "name": "stdout",
     "output_type": "stream",
     "text": [
      "All Tests Passed!!!\n"
     ]
    }
   ],
   "source": [
    "# Run this test cell to check your code\n",
    "# Do not delete this cell\n",
    "A = ['cat', 'sat', 'bat', 'mat']\n",
    "B = ['bat', 'dog', 'pet', 'cat']\n",
    "nt.assert_equal(set(['pet', 'sat', 'dog', 'mat']), set(set_union(A, B)), err_msg= 'incorrect function')\n",
    "print('All Tests Passed!!!')"
   ]
  },
  {
   "cell_type": "markdown",
   "id": "32061323",
   "metadata": {
    "deletable": false,
    "editable": false,
    "nbgrader": {
     "cell_type": "markdown",
     "checksum": "8a28891fa6a7109d1a377b610d86b9ff",
     "grade": false,
     "grade_id": "cell-651797cf4feb9f20",
     "locked": true,
     "schema_version": 3,
     "solution": false,
     "task": false
    }
   },
   "source": [
    "## Section II: Main Exercise\n",
    "\n",
    "### Question 1\n",
    "\n",
    "Write a function which randomly samples a local neighbourhood. This neighbourhood maybe circular or square in nature. The function takes as input, a vector of (x, y) coordinate points, i.e. $[x, y]$. A scalar, $r$, a radial value, a scalar, $n$, the number of samples and scalar, $s$, the shape to explore ($s = 1$ - a circular radius and $s =2$ a square neighbourhood). The function should return an array containing the coordinates of the randomly generated samples. \n",
    "\n",
    "Finally, plot these coordinates and its \"origin\" on the same set of axes to see your function in action. Explore with different values for your inputs."
   ]
  },
  {
   "cell_type": "code",
   "execution_count": 488,
   "id": "692f67df",
   "metadata": {
    "deletable": false,
    "nbgrader": {
     "cell_type": "code",
     "checksum": "82d4d60fd294ee111de3676d04e93392",
     "grade": false,
     "grade_id": "cell-6d9b35ecc977fe99",
     "locked": false,
     "schema_version": 3,
     "solution": true,
     "task": false
    }
   },
   "outputs": [],
   "source": [
    "def neighbourhood(c, r, n, s):\n",
    "    # YOUR CODE HERE\n",
    "    \n",
    "    # xpoints = []\n",
    "    # ypoints = []\n",
    "    # figure, ax = plt.subplots()\n",
    "        \n",
    "    # if s==1 :    \n",
    "    #     circle = plt.Circle(c, r, fill=False)\n",
    "    #     ax.add_patch(circle)\n",
    "        \n",
    "    #     for i in range(n):\n",
    "    #         # rad, theta = [sqrt(np.random.randint(0,r))*sqrt(r), 2*pi*np.random.random()]\n",
    "    #         theta = 2 * pi * np.random.random()\n",
    "    #         x = c[0] + r * cos(theta) \n",
    "    #         nx = c[0] - r * cos(theta)\n",
    "    #         y = c[1] + r * sin(theta)\n",
    "    #         ny = c[1] - r * sin(theta)\n",
    "    #         xpoints.append(np.random.uniform(x, nx))\n",
    "    #         ypoints.append(np.random.uniform(y, ny))\n",
    "\n",
    "        \n",
    "    # else:\n",
    "    #     l = 2*r\n",
    "    #     center = (c[0] - r, c[1] - r)\n",
    "    #     rectangle = plt.Rectangle(center, l, l, fill=False)\n",
    "    #     ax.add_patch(rectangle)\n",
    "        \n",
    "    #     xpoints = list(np.random.uniform(c[0] - r, c[0] + r, n))\n",
    "    #     ypoints = list(np.random.uniform(c[1] - r, c[1] + r, n))\n",
    "    \n",
    "    # points = []\n",
    "    \n",
    "    # for i in range(n):\n",
    "    #     if xpoints[i] <= (c[0] + r) and xpoints[i] >= (c[0] - r):\n",
    "    #        if ypoints[i] <= (c[1] + r) and ypoints[i] >= (c[1] - r):\n",
    "    #            points.append((xpoints[i], ypoints[i]))\n",
    "               \n",
    "    # ax.set_aspect(1)\n",
    "    # plt.grid()\n",
    "    # ax.plot()\n",
    "    # plt.plot(c[0], c[1], \"o\", 7, markerfacecolor=\"red\")\n",
    "    # plt.scatter(xpoints, ypoints, 4)\n",
    "    # plt.show()\n",
    "    \n",
    "    # return points\n",
    "    \n",
    "    # x, y = c[0], c[1]\n",
    "    # xpoints = np.empty(n)\n",
    "    # ypoints = np.empty(n)\n",
    "    \n",
    "    # for i in range(n):\n",
    "    #     theta = 2 * pi * np.random.random(1)\n",
    "    #     R = r * np.random.random(1)\n",
    "    \n",
    "    #     xpoints[i] = x + R * cos(theta)\n",
    "    #     ypoints[i] = y + R * sin(theta)\n",
    "           \n",
    "    # return [xpoints, ypoints]\n",
    "\n",
    "    x, y = c[0], c[1]\n",
    "    xpoints = np.empty(n)\n",
    "    ypoints = np.empty(n)\n",
    "    \n",
    "    for i in range(n):\n",
    "        theta = 2 * pi * np.random.random(1)\n",
    "        R = r * np.random.random(1)\n",
    "        \n",
    "        xpoints[i] = x + R * cos(theta)\n",
    "        ypoints[i] = y + R * sin(theta)\n",
    "        \n",
    "    return [xpoints, ypoints]\n",
    "        \n",
    "    \n",
    "    raise NotImplementedError()"
   ]
  },
  {
   "cell_type": "code",
   "execution_count": 489,
   "id": "72d5ac35",
   "metadata": {},
   "outputs": [
    {
     "name": "stdout",
     "output_type": "stream",
     "text": [
      "Test case passed!\n"
     ]
    }
   ],
   "source": [
    "# Question 1 is not graded. You see run the below code to see if your code correctly generates the neigbourhoods\n",
    "# c = [np.random.randint(10), np.random.randint(10)]\n",
    "# r = 5\n",
    "# n = 1000\n",
    "# s = 1\n",
    "# neighbourhood(c, r, n, s)\n",
    "\n",
    "c = [np.random.randint(10), np.random.randint(10)]\n",
    "r = np.random.randint(10)\n",
    "n = 20\n",
    "s = 1\n",
    "xtest, ytest = neighbourhood(c, r, n, s)\n",
    "for i in range(n):\n",
    "    pt = np.array([xtest[i], ytest[i]])\n",
    "    dist = np.linalg.norm(pt - c, 2)\n",
    "    if dist > r:\n",
    "        raise AssertionError('Point exceeds max euclidean distance')\n",
    "print('Test case passed!')\n",
    "\n",
    "\n"
   ]
  },
  {
   "cell_type": "markdown",
   "id": "99e0f47b",
   "metadata": {
    "deletable": false,
    "editable": false,
    "nbgrader": {
     "cell_type": "markdown",
     "checksum": "86708bf9d0b22549ab36c81deb6c506e",
     "grade": false,
     "grade_id": "cell-b0a51f78b95337c6",
     "locked": true,
     "schema_version": 3,
     "solution": false,
     "task": false
    }
   },
   "source": [
    "### Question 2 [1 Mark]\n",
    "\n",
    "Write a function which takes in as input an unordered vector of values. Your function should return a row vector ($1 \\times 3$) containing the minimum value, median value and maximum value (in this order). Do not use the builtin sort function. Look up sorting algorithms, *bubble sort* for example."
   ]
  },
  {
   "cell_type": "code",
   "execution_count": 490,
   "id": "1c9b16dc",
   "metadata": {
    "deletable": false,
    "nbgrader": {
     "cell_type": "code",
     "checksum": "196ee75d8de0b91dbad92114290c4d11",
     "grade": false,
     "grade_id": "cell-39600d74da63a6c1",
     "locked": false,
     "schema_version": 3,
     "solution": true,
     "task": false
    }
   },
   "outputs": [],
   "source": [
    "def lst_arrange(x):\n",
    "  \"\"\"\n",
    "  Inputs:\n",
    "      x: an array of random integers\n",
    "  \n",
    "  Output:\n",
    "      vals: an array of 3 elements, in the order of min, median and max values of the input\n",
    "  \"\"\"\n",
    "  # YOUR CODE HERE\n",
    "  \n",
    "  low = 0\n",
    "  high = len(x)-1\n",
    "  \n",
    "  print(x)\n",
    "  \n",
    "  for i in range(0, len(x) - 1):\n",
    "    for j in range(0,len(x) - i - 1):\n",
    "      if x[j] > x[j + 1]:\n",
    "        (x[j], x[j + 1]) = (x[j+1], x[j]) \n",
    "  \n",
    "  print(x)\n",
    "  # quick_sort(x,low, high)\n",
    "  \n",
    "  final = []\n",
    "  final.append(x[0])\n",
    "  \n",
    "  if len(x) % 2 != 0:\n",
    "    final.append(x[len(x)//2])\n",
    "  else:\n",
    "    median = (x[len(x)//2] + x[len(x)//2 + 1])/2 \n",
    "    final.append(median)\n",
    "    \n",
    "  final.append(x[len(x)-1])\n",
    "  \n",
    "  return final\n",
    "  raise NotImplementedError()\n",
    "\n",
    "\n",
    "# def partition(array, low, high):\n",
    "#   pivot = array[high]\n",
    "  \n",
    "#   i = low - 1\n",
    "  \n",
    "#   for j in range(low, high):\n",
    "#     if array[j] <= pivot:\n",
    "#       i = i + 1\n",
    "#       (array[i], array[j]) = (array[j], array[i])\n",
    "  \n",
    "#   (array[i + 1], array[high]) = (array[high], array[i + 1])\n",
    "  \n",
    "#   return i + 1\n",
    "  \n",
    "  \n",
    "# def quick_sort(array, low, high):\n",
    "#   if low < high:\n",
    "#     pi = partition(array, low, high)\n",
    "\n",
    "#     quick_sort(array, low, pi - 1)\n",
    "    \n",
    "#     quick_sort(array, pi + 1, high)\n",
    "      "
   ]
  },
  {
   "cell_type": "code",
   "execution_count": 491,
   "id": "cdd5e637",
   "metadata": {
    "deletable": false,
    "editable": false,
    "nbgrader": {
     "cell_type": "code",
     "checksum": "c476aef99e7d8b5eab9942055d3fa043",
     "grade": true,
     "grade_id": "cell-1ca35137aef43e0e",
     "locked": true,
     "points": 1,
     "schema_version": 3,
     "solution": false,
     "task": false
    }
   },
   "outputs": [
    {
     "name": "stdout",
     "output_type": "stream",
     "text": [
      "[4 8 2 7 8]\n",
      "[2 4 7 8 8]\n",
      "All Tests Passed!!!\n"
     ]
    }
   ],
   "source": [
    "# Run this test cell to check your code\n",
    "# Do not delete this cell\n",
    "y = np.random.randint(1, 10, 5)\n",
    "nt.assert_array_almost_equal([np.min(y), np.median(y), np.max(y)], lst_arrange(y), err_msg= 'incorrect function')\n",
    "print('All Tests Passed!!!')"
   ]
  },
  {
   "cell_type": "markdown",
   "id": "653a1e78",
   "metadata": {
    "deletable": false,
    "editable": false,
    "nbgrader": {
     "cell_type": "markdown",
     "checksum": "0f2d1fedccadecefddf7a9f1e7ae6841",
     "grade": false,
     "grade_id": "cell-3104429e83e107f6",
     "locked": true,
     "schema_version": 3,
     "solution": false,
     "task": false
    }
   },
   "source": [
    "### Question 3\n",
    "\n",
    "Write a function which takes as input an array of points, i.e. $[(x_1, y_1), (x_2, y_2), \\ldots]$. It should return as output, a smaller array containing the points of the Convex Hull vertices (ensure no duplicates).  Some algorithms which can find the convex hull are *Andrew's monotone chain algorithm* and *gift wrapping*, there are others - choose whichever one you like.\n",
    "\n",
    "Note: Colinear points should be omitted from the returned vertices. \n",
    "\n",
    "\n",
    "*You may plot this Convex Hull and the original set of points on the same axes to determine if your function is doing as instructed.*"
   ]
  },
  {
   "cell_type": "code",
   "execution_count": 492,
   "id": "74984b31",
   "metadata": {
    "deletable": false,
    "nbgrader": {
     "cell_type": "code",
     "checksum": "3a25d03b34a72f757f12f4b543404357",
     "grade": false,
     "grade_id": "cell-babaf6656da06547",
     "locked": false,
     "schema_version": 3,
     "solution": true,
     "task": false
    }
   },
   "outputs": [],
   "source": [
    "# def l_index(points):\n",
    "#     min = 0\n",
    "#     for i in range(1,len(points)):\n",
    "#         if points[i][0] <= points[min][0]:\n",
    "#             min = i\n",
    "#     return min\n",
    " \n",
    "# def orientation(p, q, r):\n",
    "#     val = (q[1] - p[1]) * (r[0] - q[0]) - (q[0] - p[0]) * (r[1] - q[1])\n",
    " \n",
    "#     if val == 0:\n",
    "#         return 0\n",
    "#     elif val > 0:\n",
    "#         return 1\n",
    "#     else:\n",
    "#         return 2\n",
    "\n",
    "# def convex_hull(points):\n",
    "#     \"\"\"\n",
    "#     Input: \n",
    "#         points: an array of coordinates, i.e. [(x1, y1), (x2, y2), (x3, y3), ....]\n",
    "#     Output: \n",
    "#         lst: a smaller array of coordinates, now only contain vertices of the hull with no duplicates\n",
    "#     \"\"\"\n",
    "#     # YOUR CODE HERE\n",
    "    \n",
    "#     if len(points) < 3:\n",
    "#         return\n",
    " \n",
    "#     l = l_index(points)\n",
    " \n",
    "#     hull = []\n",
    "    \n",
    "#     p = l\n",
    "#     q = 0\n",
    "    \n",
    "#     while(True):\n",
    "#         hull.append(p)\n",
    " \n",
    "#         q = (p + 1) % len(points)\n",
    " \n",
    "#         for i in range(len(points)):\n",
    "#             if(orientation(points[p], points[i], points[q]) == 2):\n",
    "#                 q = i\n",
    " \n",
    "#         p = q\n",
    " \n",
    "#         if(p == l):\n",
    "#             hull.append(p)\n",
    "#             break\n",
    "\n",
    "#     final = []\n",
    "    \n",
    "#     for each in hull:\n",
    "#         final.append(points[each])\n",
    "    \n",
    "#     zip(*points)\n",
    "#     zip(*final)\n",
    "#     plt.plot(*zip(*final))\n",
    "#     plt.scatter(*zip(*points))\n",
    "#     plt.show()\n",
    "    \n",
    "#     final.pop()\n",
    "    \n",
    "#     return final\n",
    "\n",
    "\n",
    "def l_index(points):\n",
    "    min = 0\n",
    "    for i in range(len(points)):\n",
    "        if points[i][0] <= points[min][0]:\n",
    "            min = i\n",
    "    return min\n",
    "\n",
    "def orientation(p, q, r):\n",
    "    val = (q[1] - p[1]) * (r[0] - q[0]) - (q[0] - p[0]) * (r[1] - q[1])\n",
    "    \n",
    "    if val == 0:\n",
    "        return 0\n",
    "    elif val > 0:\n",
    "        return 1\n",
    "    else:\n",
    "        return 2\n",
    "\n",
    "def convex_hull(points):\n",
    "    \n",
    "    if (len(points) < 3):\n",
    "        return\n",
    "    \n",
    "    hull = []\n",
    "    \n",
    "    l = l_index(points)\n",
    "    \n",
    "    p = l\n",
    "    q = 0\n",
    "    \n",
    "    while (True):\n",
    "        hull.append(p)\n",
    "        \n",
    "        q = (p + 1) % len(points)\n",
    "        \n",
    "        for i in range(len(points)):\n",
    "            if (orientation(points[p], points[i], points[q]) == 2):\n",
    "                q = i\n",
    "        \n",
    "        p = q\n",
    "        \n",
    "        if (p == l):\n",
    "            break\n",
    "            \n",
    "    final = []\n",
    "    \n",
    "    for each in hull:\n",
    "        final.append(points[each])\n",
    "        \n",
    "    return final\n",
    "                \n",
    "    raise NotImplementedError()"
   ]
  },
  {
   "cell_type": "code",
   "execution_count": 493,
   "id": "e4300d6c",
   "metadata": {
    "deletable": false,
    "editable": false,
    "nbgrader": {
     "cell_type": "code",
     "checksum": "278a66b8612dd6fe4db066e90132038b",
     "grade": true,
     "grade_id": "cell-1e128c225446bbb0",
     "locked": true,
     "points": 4,
     "schema_version": 3,
     "solution": false,
     "task": false
    }
   },
   "outputs": [
    {
     "name": "stdout",
     "output_type": "stream",
     "text": [
      "All Tests Passed!!!\n"
     ]
    }
   ],
   "source": [
    "# Run this test cell to check your code\n",
    "# Do not delete this cell\n",
    "\n",
    "assert sorted(convex_hull([(4, 82), (80, 43), (74, 67), (77, 83), (60, 41), (4, 6), (38, 23), \n",
    "                    (4, 19), (92, 70), (62, 74), (84, 30), (63, 22), (37, 45), (56, 81), \n",
    "                    (31, 19), (31, 0), (91, 48), (34, 22), (58, 72), (22, 78), (78, 28), \n",
    "                    (15, 15), (49, 89), (13, 39), (11, 68), (18, 28), (49, 61), (11, 35), \n",
    "                    (15, 6), (61, 22), (63, 82), (31, 39), (1, 50), (50, 74), (77, 67), \n",
    "                    (58, 83), (46, 42), (62, 24), (66, 39), (93, 11), (0, 47), (29, 94), \n",
    "                    (2, 60), (43, 83), (67, 97), (32, 59), (97, 73), (43, 72), (33, 85), \n",
    "                    (48, 87), (41, 48), (95, 0), (98, 28), (17, 70), (55, 26), (7, 23), \n",
    "                    (60, 31), (79, 89), (47, 2), (43, 34), (94, 84), (12, 92), (47, 69), \n",
    "                    (25, 67), (95, 90), (16, 31), (5, 58), (84, 71), (15, 6), (23, 12), \n",
    "                    (57, 48), (36, 59), (84, 61), (95, 18), (16, 66), (84, 94), (2, 5), \n",
    "                    (9, 5), (97, 77), (0, 58), (37, 17), (25, 70), (51, 42), (78, 63), \n",
    "                    (42, 70), (31, 63), (93, 9), (33, 10), (2, 46), (66, 68), (74, 57), \n",
    "                    (69, 93), (86, 76), (78, 73), (55, 22), (68, 41), (69, 43), (97, 5), \n",
    "                    (95, 22), (27, 89)])) == sorted([(0, 47), (2, 5), (31, 0), (95, 0), (97, 5), \n",
    "                                             (98, 28), (97, 77), (95, 90), (84, 94), (67, 97), \n",
    "                                             (29, 94), (12, 92), (4, 82), (0, 58)])\n",
    "print('All Tests Passed!!!')\n",
    "\n"
   ]
  },
  {
   "cell_type": "code",
   "execution_count": null,
   "id": "6b6c90ea",
   "metadata": {},
   "outputs": [],
   "source": []
  }
 ],
 "metadata": {
  "kernelspec": {
   "display_name": "Python 3.10.5 64-bit",
   "language": "python",
   "name": "python3"
  },
  "language_info": {
   "codemirror_mode": {
    "name": "ipython",
    "version": 3
   },
   "file_extension": ".py",
   "mimetype": "text/x-python",
   "name": "python",
   "nbconvert_exporter": "python",
   "pygments_lexer": "ipython3",
   "version": "3.10.5"
  },
  "vscode": {
   "interpreter": {
    "hash": "369f2c481f4da34e4445cda3fffd2e751bd1c4d706f27375911949ba6bb62e1c"
   }
  }
 },
 "nbformat": 4,
 "nbformat_minor": 5
}
