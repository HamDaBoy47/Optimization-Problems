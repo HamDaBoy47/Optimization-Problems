{
 "cells": [
  {
   "cell_type": "code",
   "execution_count": 12,
   "id": "0799af4a",
   "metadata": {
    "deletable": false,
    "editable": false,
    "nbgrader": {
     "cell_type": "code",
     "checksum": "20193d5f2e67a79ca554a65a5125e101",
     "grade": false,
     "grade_id": "cell-4e3c6aa4b1faf921",
     "locked": true,
     "schema_version": 3,
     "solution": false,
     "task": false
    }
   },
   "outputs": [],
   "source": [
    "# Initialisation Cell\n",
    "from matplotlib import pyplot as plt\n",
    "from IPython.display import display, HTML, Javascript\n",
    "from math import *\n",
    "import pandas as pd\n",
    "import numpy as np\n",
    "import numpy.testing as nt"
   ]
  },
  {
   "cell_type": "markdown",
   "id": "6c373245",
   "metadata": {
    "deletable": false,
    "editable": false,
    "nbgrader": {
     "cell_type": "markdown",
     "checksum": "760c023c5da1d4b92272c6c81c82558e",
     "grade": false,
     "grade_id": "cell-a65c68f8c387a0b2",
     "locked": true,
     "schema_version": 3,
     "solution": false,
     "task": false
    }
   },
   "source": [
    "# Optimisation II - Lab 2\n",
    "\n",
    "\n",
    "## Instructions\n",
    "\n",
    "* Carefully read all the instructions.\n",
    "* Do **NOT** change the file name/format upon submission. Please do not add or remove cells from the notebook. \n",
    "\n",
    "* **Numpy** has a help file for every function if you get stuck. See: https://docs.scipy.org/doc/numpy-1.14.5/reference/\n",
    "* See these useful links:\n",
    "    * https://docs.scipy.org/doc/numpy/user/numpy-for-matlab-users.html\n",
    "    * https://docs.scipy.org/doc/numpy/user/quickstart.html\n",
    "* **Numpy** is not always required.\n",
    "* There are also numerous sources available on the internet, Google is your friend!\n",
    "\n",
    "\n",
    "----\n",
    "This lab material has been created by Dr Matthew Woolway and has been edited by Krupa Prag. "
   ]
  },
  {
   "cell_type": "markdown",
   "id": "b0ae8218",
   "metadata": {
    "deletable": false,
    "editable": false,
    "nbgrader": {
     "cell_type": "markdown",
     "checksum": "dcc206bfd0bb92ef394ceac68a215782",
     "grade": false,
     "grade_id": "cell-41e206516b6b9844",
     "locked": true,
     "schema_version": 3,
     "solution": false,
     "task": false
    }
   },
   "source": [
    "## Warm-up Exercises\n",
    "Complete the following warm-up tasks:\n",
    "\n",
    "----\n",
    "\n",
    "### Question 1 (1 Mark)\n",
    "\n",
    "Write a function that takes as its input argument a scalar integer named $\\texttt{n}$. The function returns $\\texttt{Q}$, a 2n-by-2n matrix. Q consists of four $n$-by-$n$ submatrices. The elements of the submatrix in the top left corner are all 1s, the elements of the submatrix at the top right are 2s, the elements in the bottom left are 3s, and the elements in the bottom right are 4s. "
   ]
  },
  {
   "cell_type": "code",
   "execution_count": 13,
   "id": "a00831de",
   "metadata": {
    "deletable": false,
    "nbgrader": {
     "cell_type": "code",
     "checksum": "c7f6434f1838d202fce2d5e722c55c6b",
     "grade": false,
     "grade_id": "cell-af6aef1856fc920d",
     "locked": false,
     "schema_version": 3,
     "solution": true,
     "task": false
    }
   },
   "outputs": [],
   "source": [
    "def matrix_quad(n):\n",
    "    \"\"\"\n",
    "    Inputs:\n",
    "        n: a scalar integer\n",
    "    Outputs:\n",
    "        mat: a numpy matrix\n",
    "    \"\"\"\n",
    "    # YOUR CODE HERE\n",
    "    #-----------Attempt 1-----------#\n",
    "    # arr = np.ones((2*n, 2*n))\n",
    "    # arr = np.append(arr2, arr3) \n",
    "    # for i in range(2*n):\n",
    "    #     for j in range(2*n):\n",
    "    #         if i < n:\n",
    "    #             if j < n:\n",
    "    #                 arr[i,j] = 1 \n",
    "    #             if j >= n:\n",
    "    #                 arr[i,j] = 2  \n",
    "    #         if i >= n:\n",
    "    #             if j < n:\n",
    "    #                 arr[i,j] = 3 \n",
    "    #             if j >= n:\n",
    "    #                 arr[i,j] = 4 \n",
    "    #------------------------------#\n",
    "    arr1 = np.full((n, 2*n), [1] * n + [2] * n)\n",
    "    arr2 = np.full((n, 2*n), [3] * n + [4] * n)\n",
    "    arr = np.append(arr1, arr2, axis=0)\n",
    "               \n",
    "    return arr\n",
    "    raise NotImplementedError()"
   ]
  },
  {
   "cell_type": "code",
   "execution_count": 14,
   "id": "73f56aa0",
   "metadata": {
    "deletable": false,
    "editable": false,
    "nbgrader": {
     "cell_type": "code",
     "checksum": "957289e2b4aa47a287f207f7d8b2378a",
     "grade": true,
     "grade_id": "cell-e336471e068664ca",
     "locked": true,
     "points": 1,
     "schema_version": 3,
     "solution": false,
     "task": false
    }
   },
   "outputs": [
    {
     "name": "stdout",
     "output_type": "stream",
     "text": [
      "All Tests Passed!!!\n"
     ]
    }
   ],
   "source": [
    "# Run this test cell to check your code\n",
    "# Do not delete this cell\n",
    "test1 = np.array([[1., 1., 2., 2.],\n",
    "                 [1., 1., 2., 2.],\n",
    "                 [3., 3., 4., 4.],\n",
    "                 [3., 3., 4., 4.]])\n",
    "nt.assert_array_almost_equal(test1, matrix_quad(2), err_msg=\"Function Incorrect\")\n",
    "print('All Tests Passed!!!')"
   ]
  },
  {
   "cell_type": "markdown",
   "id": "4dbe2579",
   "metadata": {
    "deletable": false,
    "editable": false,
    "nbgrader": {
     "cell_type": "markdown",
     "checksum": "08b443b62ff9ccb62da05998ad8476c7",
     "grade": false,
     "grade_id": "cell-fa76129f0a248a79",
     "locked": true,
     "schema_version": 3,
     "solution": false,
     "task": false
    }
   },
   "source": [
    "### Question 2 (1 Mark)\n",
    "\n",
    "Write a function that takes as inputs two positive integer scalars, $\\texttt{n}$ and $\\texttt{m}$, in that order. The function must create and return $board$, which is an $n$-by-$m$ matrix. Every element of $board$ is either 0 or 1. The first element, $board(0,0)$ is 1. No direct neighbours in the matrix, vertically or horizontally, can be equal. That is, a 1 element cannot have 1 immediately preceding or following it in the same row or column. \n",
    "(You can this of this as a checked board where 0 and 1 represent the black and white blocked of the board.)"
   ]
  },
  {
   "cell_type": "code",
   "execution_count": 15,
   "id": "9cfaed03",
   "metadata": {
    "deletable": false,
    "nbgrader": {
     "cell_type": "code",
     "checksum": "e6f5be64718492f2440e82144d27f45f",
     "grade": false,
     "grade_id": "cell-013ce85b3036bcf5",
     "locked": false,
     "schema_version": 3,
     "solution": true,
     "task": false
    }
   },
   "outputs": [],
   "source": [
    "def check_board(n, m):\n",
    "    \"\"\"\n",
    "    Inputs:\n",
    "        n, m: scalar integers\n",
    "    Outputs:\n",
    "        board: binary numpy matrix\n",
    "    \"\"\"\n",
    "    # YOUR CODE HERE\n",
    "    rE = np.zeros((1, m))\n",
    "    rO =np.ones((1, m))\n",
    "    \n",
    "    for i in range(0,m,2):\n",
    "        rE[0,i] = 1\n",
    "        rO[0,i] = 0 \n",
    "\n",
    "    if n % 2 == 0:\n",
    "        arr = np.row_stack(n//2*(rE, rO))\n",
    "    else:\n",
    "        arr = np.row_stack((n//2)*(rE, rO))\n",
    "        arr = np.append(arr, rE, 0)\n",
    "            \n",
    "    return arr\n",
    "    raise NotImplementedError()"
   ]
  },
  {
   "cell_type": "code",
   "execution_count": 16,
   "id": "cd36c129",
   "metadata": {
    "deletable": false,
    "editable": false,
    "nbgrader": {
     "cell_type": "code",
     "checksum": "5f5a0eaef74be43860adab5a1550e9bf",
     "grade": true,
     "grade_id": "cell-76467ce0faa7e738",
     "locked": true,
     "points": 1,
     "schema_version": 3,
     "solution": false,
     "task": false
    }
   },
   "outputs": [
    {
     "name": "stdout",
     "output_type": "stream",
     "text": [
      "All Tests Passed!!!\n"
     ]
    }
   ],
   "source": [
    "# Run this test cell to check your code\n",
    "# Do not delete this cell\n",
    "test1 = np.array([[1., 0., 1., 0., 1.],\n",
    "                  [0., 1., 0., 1., 0.],\n",
    "                  [1., 0., 1., 0., 1.],\n",
    "                  [0., 1., 0., 1., 0.]])\n",
    "nt.assert_array_almost_equal(test1, check_board(4, 5), err_msg=\"Function Incorrect\")\n",
    "print('All Tests Passed!!!')"
   ]
  },
  {
   "cell_type": "markdown",
   "id": "ec702389",
   "metadata": {
    "deletable": false,
    "editable": false,
    "nbgrader": {
     "cell_type": "markdown",
     "checksum": "dc517fe699474a41f23d146f5a6e76aa",
     "grade": false,
     "grade_id": "cell-bac78d2f58e3c10f",
     "locked": true,
     "schema_version": 3,
     "solution": false,
     "task": false
    }
   },
   "source": [
    "### Question 3 (1 Mark)\n",
    "\n",
    "Write a function that takes three input arguments: $\\texttt{limit}$, $\\texttt{n}$, and $\\texttt{m}$, in that order. The function returns an $n$-by-$m$ matrix of uniformly distributed random integers between 1 and limit inclusive.  You are NOT allowed to use the built-in function `randi`, but you can use `rand`. You will also find the built-in function `floor` useful for obtaining integers. \n",
    "\n",
    "As an enrichment exercise to this question, to ensure that your result is indeed uniformly distributed, test the output of the function by using the built-in function `hist`, which plots a histogram on larger inputs."
   ]
  },
  {
   "cell_type": "code",
   "execution_count": 17,
   "id": "b7c6ac6e",
   "metadata": {
    "deletable": false,
    "nbgrader": {
     "cell_type": "code",
     "checksum": "3ccea5e8329ee2576a1caff842d9832d",
     "grade": false,
     "grade_id": "cell-2318dc09deefd2ef",
     "locked": false,
     "schema_version": 3,
     "solution": true,
     "task": false
    }
   },
   "outputs": [],
   "source": [
    "def random_dist(limit, n, m):\n",
    "    # YOUR CODE HERE\n",
    "    arr = np.random.rand(n,m)\n",
    "    \n",
    "    for i in range(n):\n",
    "        for j in range(m):\n",
    "            arr[i,j] *= (limit+1)\n",
    "            \n",
    "            if arr[i,j] < 1:\n",
    "                arr[i,j] += 1\n",
    "            \n",
    "            arr[i,j] = int(arr[i,j])\n",
    "            \n",
    "    #plt.hist(arr)\n",
    "    return arr \n",
    "\n",
    "    raise NotImplementedError()"
   ]
  },
  {
   "cell_type": "code",
   "execution_count": 18,
   "id": "c7b73eb9",
   "metadata": {
    "deletable": false,
    "editable": false,
    "nbgrader": {
     "cell_type": "code",
     "checksum": "87e978e13ba2bbcf25f49933fea86239",
     "grade": true,
     "grade_id": "cell-4dbeddc62c1438c4",
     "locked": true,
     "points": 1,
     "schema_version": 3,
     "solution": false,
     "task": false
    }
   },
   "outputs": [
    {
     "name": "stdout",
     "output_type": "stream",
     "text": [
      "All Tests Passed!!!\n"
     ]
    }
   ],
   "source": [
    "# Run this test cell to check your code\n",
    "# Do not delete this cell\n",
    "test1 = random_dist(5, 5, 5)\n",
    "def isinteger(x):\n",
    "     return np.equal(np.mod(x, 1), 0)\n",
    "assert(np.all(isinteger(test1)) == True)\n",
    "print('All Tests Passed!!!')"
   ]
  },
  {
   "cell_type": "markdown",
   "id": "2aaf4001",
   "metadata": {
    "deletable": false,
    "editable": false,
    "nbgrader": {
     "cell_type": "markdown",
     "checksum": "93e2e9fd30b760db0b1e5ebcf52a93b2",
     "grade": false,
     "grade_id": "cell-af116e7f5e48e1c5",
     "locked": true,
     "schema_version": 3,
     "solution": false,
     "task": false
    }
   },
   "source": [
    "# Main Exercises\n",
    "\n",
    "### Question 1 (5 Marks)\n",
    "\n",
    "Write a function that implements the Secant method. It should take as inputs the function handle $\\texttt{f'}$ (the first derivative of the function $\\texttt{f}$), two initial guesses $x0, \\ x1$ and a tolerance $\\texttt{tol}$. The function should return the root of the function. Use the absolute difference to control your tolerance."
   ]
  },
  {
   "cell_type": "code",
   "execution_count": 19,
   "id": "7b75888d",
   "metadata": {
    "deletable": false,
    "nbgrader": {
     "cell_type": "code",
     "checksum": "2828a9be211b819c7011c6e25211f9d3",
     "grade": false,
     "grade_id": "cell-dfe21f59e51fcb1a",
     "locked": false,
     "schema_version": 3,
     "solution": true,
     "task": false
    }
   },
   "outputs": [],
   "source": [
    "def secant_min(f, x0, x1, tol):\n",
    "    \"\"\"\n",
    "    Inputs:\n",
    "        f : a function handle\n",
    "        x0: an initial point - scalar\n",
    "        x1: a subsequent point - scalar\n",
    "        \n",
    "    Outputs:\n",
    "        x: root of function f - scalar\n",
    "    \"\"\"\n",
    "    # YOUR CODE HERE\n",
    "    while (abs(x1 - x0) > tol):\n",
    "        xn = x1 - f(x1) * (x1 - x0) / (f(x1) - f(x0))\n",
    "        x0 = x1\n",
    "        x1 = xn\n",
    "    \n",
    "    return xn\n",
    "    raise NotImplementedError()"
   ]
  },
  {
   "cell_type": "code",
   "execution_count": 20,
   "id": "c4ec7b68",
   "metadata": {
    "deletable": false,
    "editable": false,
    "nbgrader": {
     "cell_type": "code",
     "checksum": "bed45cfee7c24daa139accb1e6b8d614",
     "grade": true,
     "grade_id": "cell-f648fc1436c9207f",
     "locked": true,
     "points": 5,
     "schema_version": 3,
     "solution": false,
     "task": false
    }
   },
   "outputs": [
    {
     "name": "stdout",
     "output_type": "stream",
     "text": [
      "All Tests Passed!!!\n"
     ]
    }
   ],
   "source": [
    "# Run this test cell to check your code\n",
    "# Do not delete this cell\n",
    "f   = lambda x: x**2 - 612\n",
    "x0  = 10\n",
    "x1  = 30\n",
    "tol = 10**(-5)\n",
    "nt.assert_almost_equal(24.738633753705965, secant_min(f, x0, x1, tol), err_msg='incorrect function')\n",
    "print('All Tests Passed!!!')"
   ]
  },
  {
   "cell_type": "markdown",
   "id": "e9b1c0f3",
   "metadata": {
    "deletable": false,
    "editable": false,
    "nbgrader": {
     "cell_type": "markdown",
     "checksum": "c5ae271147f6f405bf719dfd87d5f196",
     "grade": false,
     "grade_id": "cell-7b4298def5b4b4c3",
     "locked": true,
     "schema_version": 3,
     "solution": false,
     "task": false
    }
   },
   "source": [
    "### Question 2 (7 Marks)\n",
    "\n",
    "Write a function that performs the Golden Search method. It should take in the function handle $\\texttt{f}$, the domain, $\\texttt{a}$, $\\texttt{b}$ and a iterations $\\texttt{iter}$. It should return a both the minima (that is the midpoint between the interval) and the function value at the minima at the end of a set number of iterations. "
   ]
  },
  {
   "cell_type": "code",
   "execution_count": 21,
   "id": "276a1aba",
   "metadata": {
    "deletable": false,
    "nbgrader": {
     "cell_type": "code",
     "checksum": "216bcaacc57d265e4277ffbf7cde1476",
     "grade": false,
     "grade_id": "cell-a5da4c9ae3fd7e69",
     "locked": false,
     "schema_version": 3,
     "solution": true,
     "task": false
    }
   },
   "outputs": [],
   "source": [
    "def golden_search(f, a, b, iter):\n",
    "    \"\"\"\n",
    "    Inputs:\n",
    "        f : a function handle\n",
    "        a : left endpoint - scalar\n",
    "        b : right endpoint - scalar\n",
    "        iter: set number of iterations - scalar\n",
    "        \n",
    "    Outputs:\n",
    "        out: np.array of xmin and f(xmin)\n",
    "    \"\"\"\n",
    "    # YOUR CODE HERE\n",
    "    R = (sqrt(5)-1)/2\n",
    "    \n",
    "    for i in range(iter):\n",
    "      x1 = a + R*(b-a)\n",
    "      x2 = b - R*(b-a)\n",
    "      print(x1)\n",
    "      print(x2)\n",
    "      \n",
    "      if f(x1) > f(x2):\n",
    "        b = x1\n",
    "        x1 = x2\n",
    "        x2 = b - R*(b-a)\n",
    "        \n",
    "      elif f(x1) < f(x2):\n",
    "        a = x2\n",
    "        x2 = x1\n",
    "        x1 = a + R*(b-a)\n",
    "      \n",
    "    \n",
    "    return [(b+a)/2, f((b+a)/2)]\n",
    "    raise NotImplementedError()"
   ]
  },
  {
   "cell_type": "code",
   "execution_count": 22,
   "id": "f48bbc22",
   "metadata": {
    "deletable": false,
    "editable": false,
    "nbgrader": {
     "cell_type": "code",
     "checksum": "2b19ff1553fea57223ad3386fce7e8ec",
     "grade": true,
     "grade_id": "cell-9417231567d45acf",
     "locked": true,
     "points": 7,
     "schema_version": 3,
     "solution": false,
     "task": false
    }
   },
   "outputs": [
    {
     "name": "stdout",
     "output_type": "stream",
     "text": [
      "0.6180339887498949\n",
      "0.3819660112501051\n",
      "0.3819660112501052\n",
      "0.2360679774997897\n",
      "0.47213595499957944\n",
      "0.38196601125010515\n",
      "0.5278640450004206\n",
      "0.4721359549995794\n"
     ]
    },
    {
     "ename": "AssertionError",
     "evalue": "\nArrays are not almost equal to 6 decimals\nincorrect function\nMismatched elements: 2 / 2 (100%)\nMax absolute difference: 11.81420053\nMax relative difference: 17.92785733\n x: array([ 0.72949 , 11.155215])\n y: array([ 0.454915, -0.658986])",
     "output_type": "error",
     "traceback": [
      "\u001b[1;31m---------------------------------------------------------------------------\u001b[0m",
      "\u001b[1;31mAssertionError\u001b[0m                            Traceback (most recent call last)",
      "\u001b[1;32mc:\\Users\\Abdullah Karolia\\Desktop\\Wits\\Second Year\\APPM - Optimisation\\labs\\lab2.ipynb Cell 17\u001b[0m in \u001b[0;36m<cell line: 9>\u001b[1;34m()\u001b[0m\n\u001b[0;32m      <a href='vscode-notebook-cell:/c%3A/Users/Abdullah%20Karolia/Desktop/Wits/Second%20Year/APPM%20-%20Optimisation/labs/lab2.ipynb#X22sZmlsZQ%3D%3D?line=6'>7</a>\u001b[0m \u001b[39m# b = 10\u001b[39;00m\n\u001b[0;32m      <a href='vscode-notebook-cell:/c%3A/Users/Abdullah%20Karolia/Desktop/Wits/Second%20Year/APPM%20-%20Optimisation/labs/lab2.ipynb#X22sZmlsZQ%3D%3D?line=7'>8</a>\u001b[0m \u001b[39miter\u001b[39m \u001b[39m=\u001b[39m \u001b[39m4\u001b[39m\n\u001b[1;32m----> <a href='vscode-notebook-cell:/c%3A/Users/Abdullah%20Karolia/Desktop/Wits/Second%20Year/APPM%20-%20Optimisation/labs/lab2.ipynb#X22sZmlsZQ%3D%3D?line=8'>9</a>\u001b[0m nt\u001b[39m.\u001b[39;49massert_array_almost_equal(np\u001b[39m.\u001b[39;49marray([ \u001b[39m0.72949017\u001b[39;49m, \u001b[39m11.15521489\u001b[39;49m]), golden_search(f, a, b, \u001b[39miter\u001b[39;49m), err_msg\u001b[39m=\u001b[39;49m\u001b[39m'\u001b[39;49m\u001b[39mincorrect function\u001b[39;49m\u001b[39m'\u001b[39;49m)\n\u001b[0;32m     <a href='vscode-notebook-cell:/c%3A/Users/Abdullah%20Karolia/Desktop/Wits/Second%20Year/APPM%20-%20Optimisation/labs/lab2.ipynb#X22sZmlsZQ%3D%3D?line=9'>10</a>\u001b[0m \u001b[39mprint\u001b[39m(\u001b[39m'\u001b[39m\u001b[39mAll Tests Passed!!!\u001b[39m\u001b[39m'\u001b[39m)\n",
      "    \u001b[1;31m[... skipping hidden 1 frame]\u001b[0m\n",
      "File \u001b[1;32mc:\\Python310\\lib\\site-packages\\numpy\\testing\\_private\\utils.py:844\u001b[0m, in \u001b[0;36massert_array_compare\u001b[1;34m(comparison, x, y, err_msg, verbose, header, precision, equal_nan, equal_inf)\u001b[0m\n\u001b[0;32m    840\u001b[0m         err_msg \u001b[39m+\u001b[39m\u001b[39m=\u001b[39m \u001b[39m'\u001b[39m\u001b[39m\\n\u001b[39;00m\u001b[39m'\u001b[39m \u001b[39m+\u001b[39m \u001b[39m'\u001b[39m\u001b[39m\\n\u001b[39;00m\u001b[39m'\u001b[39m\u001b[39m.\u001b[39mjoin(remarks)\n\u001b[0;32m    841\u001b[0m         msg \u001b[39m=\u001b[39m build_err_msg([ox, oy], err_msg,\n\u001b[0;32m    842\u001b[0m                             verbose\u001b[39m=\u001b[39mverbose, header\u001b[39m=\u001b[39mheader,\n\u001b[0;32m    843\u001b[0m                             names\u001b[39m=\u001b[39m(\u001b[39m'\u001b[39m\u001b[39mx\u001b[39m\u001b[39m'\u001b[39m, \u001b[39m'\u001b[39m\u001b[39my\u001b[39m\u001b[39m'\u001b[39m), precision\u001b[39m=\u001b[39mprecision)\n\u001b[1;32m--> 844\u001b[0m         \u001b[39mraise\u001b[39;00m \u001b[39mAssertionError\u001b[39;00m(msg)\n\u001b[0;32m    845\u001b[0m \u001b[39mexcept\u001b[39;00m \u001b[39mValueError\u001b[39;00m:\n\u001b[0;32m    846\u001b[0m     \u001b[39mimport\u001b[39;00m \u001b[39mtraceback\u001b[39;00m\n",
      "\u001b[1;31mAssertionError\u001b[0m: \nArrays are not almost equal to 6 decimals\nincorrect function\nMismatched elements: 2 / 2 (100%)\nMax absolute difference: 11.81420053\nMax relative difference: 17.92785733\n x: array([ 0.72949 , 11.155215])\n y: array([ 0.454915, -0.658986])"
     ]
    }
   ],
   "source": [
    "# Run this test cell to check your code\n",
    "# Do not delete this cell\n",
    "f = lambda x: x**2 -6*x +15\n",
    "a = 0\n",
    "b = 10\n",
    "iter = 4\n",
    "nt.assert_array_almost_equal(np.array([ 0.72949017, 11.15521489]), golden_search(f, a, b, iter), err_msg='incorrect function')\n",
    "print('All Tests Passed!!!')"
   ]
  },
  {
   "cell_type": "code",
   "execution_count": null,
   "id": "fd3ecc03",
   "metadata": {},
   "outputs": [],
   "source": []
  }
 ],
 "metadata": {
  "kernelspec": {
   "display_name": "Python 3.10.5 64-bit",
   "language": "python",
   "name": "python3"
  },
  "language_info": {
   "codemirror_mode": {
    "name": "ipython",
    "version": 3
   },
   "file_extension": ".py",
   "mimetype": "text/x-python",
   "name": "python",
   "nbconvert_exporter": "python",
   "pygments_lexer": "ipython3",
   "version": "3.10.5"
  },
  "vscode": {
   "interpreter": {
    "hash": "369f2c481f4da34e4445cda3fffd2e751bd1c4d706f27375911949ba6bb62e1c"
   }
  }
 },
 "nbformat": 4,
 "nbformat_minor": 5
}
