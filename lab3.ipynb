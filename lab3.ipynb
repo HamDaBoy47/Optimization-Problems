{
 "cells": [
  {
   "cell_type": "code",
   "execution_count": 75,
   "id": "4687775a",
   "metadata": {
    "deletable": false,
    "editable": false,
    "nbgrader": {
     "cell_type": "code",
     "checksum": "99274a2c26807c88b0de904cd593a5c1",
     "grade": false,
     "grade_id": "cell-a1f14c187708d862",
     "locked": true,
     "schema_version": 3,
     "solution": false,
     "task": false
    }
   },
   "outputs": [],
   "source": [
    "# Initialisation Cell\n",
    "from matplotlib import pyplot as plt\n",
    "from IPython.display import display, HTML, Javascript\n",
    "from math import *\n",
    "import seaborn as sns\n",
    "import pandas as pd\n",
    "import numpy as np\n",
    "import numpy.testing as nt\n",
    "import time\n",
    "from numpy import linalg as LA\n",
    "from functools import reduce\n"
   ]
  },
  {
   "cell_type": "markdown",
   "id": "d4524e21",
   "metadata": {
    "deletable": false,
    "editable": false,
    "nbgrader": {
     "cell_type": "markdown",
     "checksum": "05c859bdce412fc74dc2df76bf06dffc",
     "grade": false,
     "grade_id": "cell-07a819755a2bc28a",
     "locked": true,
     "schema_version": 3,
     "solution": false,
     "task": false
    }
   },
   "source": [
    "# Optimisation II - Lab 3\n",
    "\n",
    "\n",
    "## Instructions\n",
    "\n",
    "* Read all the instructions carefully.\n",
    "* **Numpy** has a help file for every function if you get stuck. See: https://docs.scipy.org/doc/numpy-1.14.5/reference/\n",
    "* See these useful links:\n",
    "    * https://docs.scipy.org/doc/numpy/user/numpy-for-matlab-users.html\n",
    "    * https://docs.scipy.org/doc/numpy/user/quickstart.html\n",
    "* **Numpy** is not always required.\n",
    "* There are also numerous sources available on the internet, Google is your friend!\n",
    "* You may not import any additional libraries, please use only those provided.\n",
    "    \n",
    "Developed by Dr M. Woolway and edited by Krupa Prag. "
   ]
  },
  {
   "cell_type": "markdown",
   "id": "6e64464b",
   "metadata": {
    "deletable": false,
    "editable": false,
    "nbgrader": {
     "cell_type": "markdown",
     "checksum": "f78f11f3c120ad3ae522e9005bc7b581",
     "grade": false,
     "grade_id": "cell-819a6fdf617e6591",
     "locked": true,
     "schema_version": 3,
     "solution": false,
     "task": false
    }
   },
   "source": [
    "## Warm-up Exercises\n",
    "\n",
    "\n",
    "\n",
    "### Question 1 [4 Marks]\n",
    "\n",
    "Write a function that takes in three scalar inputs and returns these values in a single row vector of increasing order. The function may not use any builtin functions but must perform this task only using if statements (possibly nested).\n"
   ]
  },
  {
   "cell_type": "code",
   "execution_count": 76,
   "id": "f965c351",
   "metadata": {
    "deletable": false,
    "nbgrader": {
     "cell_type": "code",
     "checksum": "b3e12d6672c4ea30c4d11125dc6ac850",
     "grade": false,
     "grade_id": "cell-34cd77183ff3b4dd",
     "locked": false,
     "schema_version": 3,
     "solution": true,
     "task": false
    }
   },
   "outputs": [],
   "source": [
    "def tri_sort(a, b, c):\n",
    "    # YOUR CODE HERE\n",
    "    ordered = []\n",
    "    \n",
    "    if (a < b and a < c):\n",
    "        ordered.append(a)\n",
    "        if (b < c):\n",
    "            ordered.append(b)\n",
    "            ordered.append(c)\n",
    "        else:\n",
    "            ordered.append(c)\n",
    "            ordered.append(b)\n",
    "    elif (b < a and b < c):\n",
    "        ordered.append(b)\n",
    "        if (a < c):\n",
    "            ordered.append(a)\n",
    "            ordered.append(c)\n",
    "        else:\n",
    "            ordered.append(c)\n",
    "            ordered.append(a)\n",
    "    else:\n",
    "        ordered.append(c)\n",
    "        if (b < a):\n",
    "            ordered.append(b)\n",
    "            ordered.append(a)\n",
    "        else:\n",
    "            ordered.append(a)\n",
    "            ordered.append(b)\n",
    "    \n",
    "    return ordered\n",
    "    raise NotImplementedError()"
   ]
  },
  {
   "cell_type": "code",
   "execution_count": 77,
   "id": "7fcd8e1d",
   "metadata": {
    "deletable": false,
    "editable": false,
    "nbgrader": {
     "cell_type": "code",
     "checksum": "947bfb47c9f84e6e1818f1d05840e005",
     "grade": true,
     "grade_id": "cell-80fba3d18235871a",
     "locked": true,
     "points": 1,
     "schema_version": 3,
     "solution": false,
     "task": false
    }
   },
   "outputs": [
    {
     "name": "stdout",
     "output_type": "stream",
     "text": [
      "All Tests Passed!!!\n"
     ]
    }
   ],
   "source": [
    "# Run this test cell to check your code\n",
    "# Do not delete this cell \n",
    "# 1 Mark\n",
    "nt.assert_array_equal(np.array([1, 5, 8]), tri_sort(5, 8, 1))\n",
    "print('All Tests Passed!!!')"
   ]
  },
  {
   "cell_type": "code",
   "execution_count": 78,
   "id": "abd6f17a",
   "metadata": {
    "deletable": false,
    "editable": false,
    "nbgrader": {
     "cell_type": "code",
     "checksum": "06d174211d6a5595e20e5d0120c21e18",
     "grade": true,
     "grade_id": "cell-cfb85bbc7f0b94c4",
     "locked": true,
     "points": 3,
     "schema_version": 3,
     "solution": false,
     "task": false
    }
   },
   "outputs": [],
   "source": [
    "# Run this test cell to check your code\n",
    "# Do not delete this cell \n",
    "# Hidden cases\n",
    "# 3 Marks\n"
   ]
  },
  {
   "cell_type": "markdown",
   "id": "f77708c7",
   "metadata": {
    "deletable": false,
    "editable": false,
    "nbgrader": {
     "cell_type": "markdown",
     "checksum": "d805ba64d96dddb62d0bdba6b41e1e46",
     "grade": false,
     "grade_id": "cell-f97604ef21b13fb5",
     "locked": true,
     "schema_version": 3,
     "solution": false,
     "task": false
    }
   },
   "source": [
    "### Question 2 [4 Marks]\n",
    "\n",
    "Write a function that takes in one input argument, $x$. If $x$ is an empty matrix, the function must return -1. If $x$ is a scalar it must return $0$. If $x$ is a vector it must return 1. Finally, if $x$ is none of these it must return 2. You may not use any builtin function such as `𝚒𝚜𝚜𝚌𝚊𝚕𝚊𝚛` etc.\n"
   ]
  },
  {
   "cell_type": "code",
   "execution_count": 79,
   "id": "2680a9bb",
   "metadata": {
    "deletable": false,
    "nbgrader": {
     "cell_type": "code",
     "checksum": "963e8765152fd7826d54d5e7200993d7",
     "grade": false,
     "grade_id": "cell-de763a3b2eaf163b",
     "locked": false,
     "schema_version": 3,
     "solution": true,
     "task": false
    }
   },
   "outputs": [],
   "source": [
    "def classifier(x):\n",
    "    # YOUR CODE HERE\n",
    "    try:\n",
    "        if(x.size == 0):\n",
    "            return -1\n",
    "        else:\n",
    "            try:\n",
    "                x[1].size\n",
    "                return 2\n",
    "            except:\n",
    "                return 1\n",
    "    except:\n",
    "        if (len(x) == 1):\n",
    "            try:\n",
    "                x[0] + 1\n",
    "                return 0\n",
    "            except:\n",
    "                return 2\n",
    "        return 2\n",
    "    \n",
    "    raise NotImplementedError()"
   ]
  },
  {
   "cell_type": "code",
   "execution_count": 80,
   "id": "a5e0b6b8",
   "metadata": {
    "deletable": false,
    "editable": false,
    "nbgrader": {
     "cell_type": "code",
     "checksum": "b70d72ae2b5c8c21ed02d352c0c41a26",
     "grade": true,
     "grade_id": "cell-867ca2a6eada40a7",
     "locked": true,
     "points": 1,
     "schema_version": 3,
     "solution": false,
     "task": false
    }
   },
   "outputs": [
    {
     "name": "stdout",
     "output_type": "stream",
     "text": [
      "All Tests Passed!!!\n"
     ]
    }
   ],
   "source": [
    "# Run this test cell to check your code\n",
    "# Do not delete this cell \n",
    "# 1 Mark3\n",
    "assert(2 == classifier(np.random.rand(2, 5)))\n",
    "print('All Tests Passed!!!')"
   ]
  },
  {
   "cell_type": "code",
   "execution_count": 81,
   "id": "627af388",
   "metadata": {
    "deletable": false,
    "editable": false,
    "nbgrader": {
     "cell_type": "code",
     "checksum": "d8b9f875cc99b9b8a668ee9955e7b69a",
     "grade": true,
     "grade_id": "cell-979237836c4d432a",
     "locked": true,
     "points": 1,
     "schema_version": 3,
     "solution": false,
     "task": false
    }
   },
   "outputs": [
    {
     "name": "stdout",
     "output_type": "stream",
     "text": [
      "All Tests Passed!!!\n"
     ]
    }
   ],
   "source": [
    "# Run this test cell to check your code\n",
    "# Do not delete this cell \n",
    "# 1 Mark\n",
    "assert(1 == classifier(np.random.rand(1, 5)))\n",
    "print('All Tests Passed!!!')"
   ]
  },
  {
   "cell_type": "code",
   "execution_count": 82,
   "id": "df3f8859",
   "metadata": {
    "deletable": false,
    "editable": false,
    "nbgrader": {
     "cell_type": "code",
     "checksum": "d37e8c77cd64b5a652f0245947cb869f",
     "grade": true,
     "grade_id": "cell-b31a796bae990b57",
     "locked": true,
     "points": 1,
     "schema_version": 3,
     "solution": false,
     "task": false
    }
   },
   "outputs": [
    {
     "name": "stdout",
     "output_type": "stream",
     "text": [
      "All Tests Passed!!!\n"
     ]
    }
   ],
   "source": [
    "# Run this test cell to check your code\n",
    "# Do not delete this cell \n",
    "# 1 Mark\n",
    "assert(-1 == classifier(np.array([])))\n",
    "print('All Tests Passed!!!')"
   ]
  },
  {
   "cell_type": "code",
   "execution_count": 83,
   "id": "96a16ab1",
   "metadata": {
    "deletable": false,
    "editable": false,
    "nbgrader": {
     "cell_type": "code",
     "checksum": "18896560973110a353681340997a5257",
     "grade": true,
     "grade_id": "cell-ad828bad1788aeb0",
     "locked": true,
     "points": 1,
     "schema_version": 3,
     "solution": false,
     "task": false
    }
   },
   "outputs": [
    {
     "name": "stdout",
     "output_type": "stream",
     "text": [
      "All Tests Passed!!!\n"
     ]
    }
   ],
   "source": [
    "# Run this test cell to check your code\n",
    "# Do not delete this cell \n",
    "# 1 Mark\n",
    "assert(0 == classifier([1]))\n",
    "print('All Tests Passed!!!')"
   ]
  },
  {
   "cell_type": "markdown",
   "id": "b3dbb455",
   "metadata": {
    "deletable": false,
    "editable": false,
    "nbgrader": {
     "cell_type": "markdown",
     "checksum": "4f686c8f92ae4df5a35def3fa5b99293",
     "grade": false,
     "grade_id": "cell-302b4c3fa39b7880",
     "locked": true,
     "schema_version": 3,
     "solution": false,
     "task": false
    }
   },
   "source": [
    "## Main Exercises\n",
    "\n",
    "Complete the following problems.\n"
   ]
  },
  {
   "cell_type": "markdown",
   "id": "83c86aa3",
   "metadata": {},
   "source": [
    "## Question 1 [6 Marks]\n",
    "### Directional derivative of maximal rate of increase/decrease at a point\n",
    "\n",
    "The function ``directional_derivative`` returns the rate of maximal increase or decrease of the function $\\mathbf{f}$ at a given point $\\mathbf{p}$. \n",
    "\n",
    "The function inputs are the function $\\mathbf{f}$, the grad $\\mathbf{g}$ ($\\mathbf{\\nabla f}$), the point $\\mathbf{p}$, $n$ the dimension/number of variables that make up the function and a binary value which indicates maximal increase or decrease.\n",
    "\n",
    "* $\\mathbf{f}$ a function of $x_1, x_2, ..., x_n$.\n",
    "* $\\mathbf{g} = [g_1, g_2, ..., g_n]^T$, where $g_1, g_2, ..., g_n$ are respectively the grad of some function $f$ with respect to $x_1, x_2, ..., x_n$. This is a list. \n",
    "* $\\mathbf{p} = (x_1, x_2, ..., x_n)$ which is a tuple.\n",
    "* $n$ is the number of variables.\n",
    "* $m$ is a binary value. 0: if maximal rate of decrease and 1: if maximal rate of increase required.\n",
    "\n",
    "The function returns the maximal rate of increase/decrease at the the point $\\mathbf{p}$. \n"
   ]
  },
  {
   "cell_type": "code",
   "execution_count": 84,
   "id": "d49925db",
   "metadata": {
    "deletable": false,
    "nbgrader": {
     "cell_type": "code",
     "checksum": "4b2e08a6323ca40fac137b210e7d27d6",
     "grade": false,
     "grade_id": "cell-c5c9826f180ed489",
     "locked": false,
     "schema_version": 3,
     "solution": true,
     "task": false
    }
   },
   "outputs": [],
   "source": [
    "def directional_derivative(f, g, p, n, m):\n",
    "    \"\"\"\n",
    "    INPUTS:\n",
    "        f: Function\n",
    "        g: Grad of function f. Note that this is given in a vector format of dimensions nX1.\n",
    "        p: Point given as an one-dimensional array\n",
    "        n: number of variables\n",
    "        m: binary value indicating maximal rate of decrease/increase\n",
    "    OUTPUT: \n",
    "        maximal directional derivative of increase/decrease at the point p\n",
    "    \"\"\"\n",
    "    # YOUR CODE HERE\n",
    "    buffer = [func(*p)**2 for func in g]\n",
    "    dd = sum(buffer)\n",
    "      \n",
    "    if m == 0:\n",
    "        return -sqrt(dd)\n",
    "    \n",
    "    return sqrt(dd)\n",
    "    raise NotImplementedError()\n",
    "    "
   ]
  },
  {
   "cell_type": "code",
   "execution_count": 85,
   "id": "887391cf",
   "metadata": {
    "deletable": false,
    "editable": false,
    "nbgrader": {
     "cell_type": "code",
     "checksum": "a9b5ccd308b4cea3009c573fc7f1b5e0",
     "grade": true,
     "grade_id": "cell-b73a99568f61a453",
     "locked": true,
     "points": 6,
     "schema_version": 3,
     "solution": false,
     "task": false
    }
   },
   "outputs": [
    {
     "name": "stdout",
     "output_type": "stream",
     "text": [
      "All Tests Passed!!!\n"
     ]
    }
   ],
   "source": [
    "# Run this test cell to check your code\n",
    "# Do not delete this cell\n",
    "# 7 Marks\n",
    "f = lambda a, b: a**2 + 4*(b**2) + 6*a*b + 3*a + 4*b\n",
    "g1 = lambda a, b: 2*a + 6*b +3\n",
    "g2 = lambda a,b: 16*b + 6*a +4\n",
    "g = np.transpose([g1, g2])\n",
    "p = (1,1)\n",
    "n = 2\n",
    "m = 1\n",
    "nt.assert_almost_equal(np.sqrt(797), directional_derivative(f, g, p, n, m), err_msg='incorrect function')\n",
    "print('All Tests Passed!!!')\n"
   ]
  },
  {
   "cell_type": "markdown",
   "id": "d1c1bc68",
   "metadata": {
    "deletable": false,
    "editable": false,
    "nbgrader": {
     "cell_type": "markdown",
     "checksum": "a54afde1b59de3b7972f9bbfee753f33",
     "grade": false,
     "grade_id": "cell-1b6d1fcdac8317e3",
     "locked": true,
     "schema_version": 3,
     "solution": false,
     "task": false
    }
   },
   "source": [
    "### Question 2 [6 Marks]\n",
    "\n",
    "Write a function `fixed_steepest_descent` which implements the method of Steepest Descent using a fixed step size. The function should take as inputs the multivariate function `f`, the gradient `g`, some initial guess `x`, the fixed step size `alpha` and some tolerance `tol`. Use `norm(x, 2)` to control your tolerance. The function should return the approximation to the minimum as well as the number of iterations required to find it."
   ]
  },
  {
   "cell_type": "code",
   "execution_count": 86,
   "id": "831e1790",
   "metadata": {
    "deletable": false,
    "nbgrader": {
     "cell_type": "code",
     "checksum": "af844949127baa0ac4635e97e450c205",
     "grade": false,
     "grade_id": "cell-7f4dbfed0c4f0a15",
     "locked": false,
     "schema_version": 3,
     "solution": true,
     "task": false
    }
   },
   "outputs": [],
   "source": [
    "def fixed_steepest_descent(f, g, x, alpha, tol):\n",
    "    # YOUR CODE HERE\n",
    "    x_old = np.array([0, 0]) \n",
    "    x_list, y_list = [x], [f(x)]\n",
    "    \n",
    "    while np.linalg.norm(x,2) > tol:\n",
    "        x_old = x\n",
    "        s_k = g(x_old)\n",
    "        x = x_old + alpha * s_k\n",
    "        x_list.append(x)\n",
    "        y_list.append(f(x))\n",
    "    \n",
    "    return [x, len(x_list)]\n",
    "    raise NotImplementedError()"
   ]
  },
  {
   "cell_type": "code",
   "execution_count": 87,
   "id": "38f3bc47",
   "metadata": {
    "deletable": false,
    "editable": false,
    "nbgrader": {
     "cell_type": "code",
     "checksum": "28a3b41cbd0808068ae27a3ed2f7d4e8",
     "grade": true,
     "grade_id": "cell-5df8a18d31c21c02",
     "locked": true,
     "points": 6,
     "schema_version": 3,
     "solution": false,
     "task": false
    }
   },
   "outputs": [
    {
     "name": "stdout",
     "output_type": "stream",
     "text": [
      "Test case passed!!!\n"
     ]
    }
   ],
   "source": [
    "# Run this test cell to check your code\n",
    "# Do not delete this cell \n",
    "# 6 Marks\n",
    "f1    = lambda x: 2*x[0]**2 + 3*x[1]**2\n",
    "g1    = lambda x: np.array([-4*x[0], -6*x[1]])\n",
    "x0    = np.array([1, 1]) \n",
    "alpha = 52/280\n",
    "tol   = 1e-5\n",
    "\n",
    "nt.assert_array_almost_equal([ 4.91552813e-06, -3.32604042e-09], fixed_steepest_descent(f1, g1, x0, alpha, tol)[0])\n",
    "print('Test case passed!!!')"
   ]
  },
  {
   "cell_type": "markdown",
   "id": "7313be51",
   "metadata": {},
   "source": [
    "Please ensure your file name is ``'lab3.ipynb'``"
   ]
  },
  {
   "cell_type": "code",
   "execution_count": 88,
   "id": "b19b52bd",
   "metadata": {},
   "outputs": [],
   "source": [
    "def dfp(f, g, x0, tol, max_iter, alpha):\n",
    "    # YOUR CODE HERE\n",
    "    k = 0\n",
    "    G = np.eye(len(x0))\n",
    "    \n",
    "    while np.linalg.norm(g(x0),2) > tol and k < max_iter:\n",
    "        d = np.matmul(-G, g(x0))\n",
    "        x1 = x0 + alpha * d\n",
    "        dx = x1 - x0\n",
    "        dg = g(x1) - g(x0)\n",
    "        \n",
    "        delta = np.outer(dx,dx) / np.dot(dx,dg)\n",
    "        \n",
    "    k = 0\n",
    "    G = np.eye(len(x0))\n",
    "\n",
    "    while np.linalg.norm(g(x0), 2) > tol:\n",
    "        d = np.matmul(-G, g(x0))\n",
    "        x1 = x0 + alpha * d\n",
    "        dx = x1 - x0\n",
    "        dg = g(x1) - g(x0)\n",
    "\n",
    "        delta = np.outer(dx, dx) / np.dot(dx, dg)\n",
    "        gamma = np.outer(np.matmul(G, dg), np.matmul(dg, G)) / np.dot(np.matmul(dg, G),dg)\n",
    "\n",
    "        G = G + (delta - gamma)\n",
    "\n",
    "        x0 = x1\n",
    "        k = k + 1\n",
    "\n",
    "    return (x1, k)\n",
    "\n",
    "    raise NotImplementedError()"
   ]
  },
  {
   "cell_type": "code",
   "execution_count": 89,
   "id": "dca01922",
   "metadata": {},
   "outputs": [
    {
     "name": "stdout",
     "output_type": "stream",
     "text": [
      "Test case passed!!!\n"
     ]
    }
   ],
   "source": [
    "# Run this test cell to check your code\n",
    "# Do not delete this cell\n",
    "# 5 Marks\n",
    "f = lambda x: x[0] - x[1] + 2*x[0]**2 + 2*x[0]*x[1] + x[1]**2\n",
    "g = lambda x: np.array([1 + 4*x[0] + 2*x[1], -1 + 2*x[0] + 2*x[1]])\n",
    "x0 = np.array([0, 0])\n",
    "alpha = 0.75\n",
    "tol = 1e-7\n",
    "max_iter = 20\n",
    "nt.assert_almost_equal([-1.0, 1.50000001], dfp(f, g, x0, tol, max_iter, alpha)[0])\n",
    "print('Test case passed!!!')"
   ]
  }
 ],
 "metadata": {
  "kernelspec": {
   "display_name": "Python 3.10.5 64-bit",
   "language": "python",
   "name": "python3"
  },
  "language_info": {
   "codemirror_mode": {
    "name": "ipython",
    "version": 3
   },
   "file_extension": ".py",
   "mimetype": "text/x-python",
   "name": "python",
   "nbconvert_exporter": "python",
   "pygments_lexer": "ipython3",
   "version": "3.10.5"
  },
  "vscode": {
   "interpreter": {
    "hash": "369f2c481f4da34e4445cda3fffd2e751bd1c4d706f27375911949ba6bb62e1c"
   }
  }
 },
 "nbformat": 4,
 "nbformat_minor": 5
}
